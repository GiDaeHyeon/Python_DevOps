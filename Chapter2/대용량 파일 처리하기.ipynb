{
 "cells": [
  {
   "cell_type": "markdown",
   "id": "9d4f59f7",
   "metadata": {},
   "source": [
    "# 대용량 파일 처리하기"
   ]
  },
  {
   "cell_type": "code",
   "execution_count": 7,
   "id": "73987381",
   "metadata": {},
   "outputs": [],
   "source": [
    "with open('./untitled.txt', 'r') as file:\n",
    "    with open('./untitled2.txt', 'w') as target_file:\n",
    "        for line in file:\n",
    "            target_file.write(line)"
   ]
  },
  {
   "cell_type": "code",
   "execution_count": 9,
   "id": "1d8bc3e6",
   "metadata": {},
   "outputs": [],
   "source": [
    "def line_reader(file):\n",
    "    with open(file, 'r') as raw_file:\n",
    "        for line in raw_file:\n",
    "            yield line\n",
    "\n",
    "reader = line_reader('./untitled2.txt')\n",
    "with open('./untitled3.txt', 'r') as target_file:\n",
    "    for line in reader:\n",
    "        target_file.write(line)"
   ]
  },
  {
   "cell_type": "code",
   "execution_count": 8,
   "id": "3689277c",
   "metadata": {},
   "outputs": [
    {
     "name": "stdout",
     "output_type": "stream",
     "text": [
      "폰정태와 함께하는 파이썬 데브옵스 공부!\n",
      "1장은 파이썬 기본문법에 대한 내용이었습니다.\n",
      "그건 솔직히 넘어가도 되겠죠?\n"
     ]
    }
   ],
   "source": [
    "file = open('./untitled2.txt', 'r')\n",
    "text = file.read()\n",
    "print(text)"
   ]
  },
  {
   "cell_type": "code",
   "execution_count": 13,
   "id": "04374737",
   "metadata": {},
   "outputs": [
    {
     "name": "stdout",
     "output_type": "stream",
     "text": [
      "폰정태와 함께하는 파이썬 데브\n",
      "옵스 공부!\n",
      "1장은 파이썬 기\n",
      "본문법에 대한 내용이었습니다.\n",
      "\n",
      "그건 솔직히 넘어가도 되겠죠\n",
      "?\n",
      "Done\n"
     ]
    }
   ],
   "source": [
    "with open('./untitled.txt') as target_file:\n",
    "    while True:\n",
    "        chunk = target_file.read(16)\n",
    "        if chunk:\n",
    "            print(chunk)\n",
    "        else:\n",
    "            print('Done')\n",
    "            break"
   ]
  },
  {
   "cell_type": "code",
   "execution_count": null,
   "id": "5a6e56d7",
   "metadata": {},
   "outputs": [],
   "source": []
  }
 ],
 "metadata": {
  "kernelspec": {
   "display_name": "Python 3 (ipykernel)",
   "language": "python",
   "name": "python3"
  },
  "language_info": {
   "codemirror_mode": {
    "name": "ipython",
    "version": 3
   },
   "file_extension": ".py",
   "mimetype": "text/x-python",
   "name": "python",
   "nbconvert_exporter": "python",
   "pygments_lexer": "ipython3",
   "version": "3.9.5"
  }
 },
 "nbformat": 4,
 "nbformat_minor": 5
}
