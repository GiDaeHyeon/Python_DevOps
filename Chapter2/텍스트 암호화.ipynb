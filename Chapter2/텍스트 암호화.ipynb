{
 "cells": [
  {
   "cell_type": "markdown",
   "source": [
    "# 텍스트 암호화"
   ],
   "metadata": {}
  },
  {
   "cell_type": "markdown",
   "source": [
    "##### 대칭키"
   ],
   "metadata": {}
  },
  {
   "cell_type": "code",
   "execution_count": 2,
   "source": [
    "from cryptography.fernet import Fernet\n",
    "\n",
    "key = Fernet.generate_key()\n",
    "print(key)"
   ],
   "outputs": [
    {
     "output_type": "stream",
     "name": "stdout",
     "text": [
      "b'bnXGs0gKtCa8VXsVRh0btM5ENE2_riUXLywSdnF44hE='\n"
     ]
    }
   ],
   "metadata": {}
  },
  {
   "cell_type": "code",
   "execution_count": 4,
   "source": [
    "f = Fernet(key)\n",
    "message = b\"with von\"\n",
    "enc_text = f.encrypt(message)\n",
    "print(enc_text)"
   ],
   "outputs": [
    {
     "output_type": "stream",
     "name": "stdout",
     "text": [
      "b'gAAAAABhNcCAvpgUES1kWjPCJEdphxJWke1ihfblMVAek3hMuMK3u1bMoLqpDS53yE8nahTN_gbDZ_ZiN4LK_Ism8JKabWWVyA=='\n"
     ]
    }
   ],
   "metadata": {}
  },
  {
   "cell_type": "code",
   "execution_count": 5,
   "source": [
    "dec_text = f.decrypt(enc_text)\n",
    "print(dec_text)"
   ],
   "outputs": [
    {
     "output_type": "stream",
     "name": "stdout",
     "text": [
      "b'with von'\n"
     ]
    }
   ],
   "metadata": {}
  },
  {
   "cell_type": "markdown",
   "source": [
    "##### 비대칭키"
   ],
   "metadata": {}
  },
  {
   "cell_type": "code",
   "execution_count": 7,
   "source": [
    "from cryptography.hazmat.backends import default_backend\n",
    "from cryptography.hazmat.primitives.asymmetric import rsa\n",
    "\n",
    "private_key = rsa.generate_private_key(public_exponent=65537,\n",
    "                                       key_size=4096,\n",
    "                                       backend=default_backend())\n",
    "print(private_key)"
   ],
   "outputs": [
    {
     "output_type": "stream",
     "name": "stdout",
     "text": [
      "<cryptography.hazmat.backends.openssl.rsa._RSAPrivateKey object at 0x10a61e850>\n"
     ]
    }
   ],
   "metadata": {}
  },
  {
   "cell_type": "code",
   "execution_count": 8,
   "source": [
    "public_key = private_key.public_key()\n",
    "print(public_key)"
   ],
   "outputs": [
    {
     "output_type": "stream",
     "name": "stdout",
     "text": [
      "<cryptography.hazmat.backends.openssl.rsa._RSAPublicKey object at 0x10561dc70>\n"
     ]
    }
   ],
   "metadata": {}
  },
  {
   "cell_type": "code",
   "execution_count": 10,
   "source": [
    "from cryptography.hazmat.primitives.asymmetric import padding\n",
    "from cryptography.hazmat.primitives import hashes\n",
    "\n",
    "message = b\"with von\"\n",
    "\n",
    "enc_text = public_key.encrypt(message,\n",
    "                              padding.OAEP(mgf=padding.MGF1(algorithm=hashes.SHA256()),\n",
    "                                algorithm=hashes.SHA256(),\n",
    "                                label=None))\n",
    "print(enc_text)"
   ],
   "outputs": [
    {
     "output_type": "stream",
     "name": "stdout",
     "text": [
      "b\"?\\xe6\\x80L\\xf2M\\xd1\\x0e\\x87\\x05{\\xd9\\nW\\xec\\xf2\\x12\\x8eP)\\xad\\x836I\\x8f\\xaa\\xf9\\x01\\xb5\\xc9J 6w\\x0fr\\xffP\\x00F=\\xe3\\x03\\xbctS'\\xd5\\xc5\\xd7\\x8caW\\xceT\\x16_\\xdbb'q\\xdb@\\xe4/\\xbd\\xa0\\xe9\\xe6\\x86\\t\\xcf\\xdc\\xfa\\x868\\xea\\xc5\\x89\\x1d\\xd3\\x1cB\\x18\\xc7\\xe3{i\\x95iG\\xcf\\x19\\x1eU^/dm\\x0bd\\xd3\\xb3j\\x9d\\xaa\\xdao\\x16\\xe1\\xa7\\x92\\xd9F\\xea7\\x91<\\xbb\\xbb\\xe6)\\xc5\\xf3!\\xd1\\xfb\\x15\\x17 OW\\x0b=j\\x14L\\xba\\xbaR-`.\\x07\\xfc\\xa4^\\x1bd1\\t\\xfb\\xba{.g\\x1f\\xb6\\x910)\\xcb\\xdc\\xc1,\\xa9n\\x1e\\x84j*\\xea\\xdc\\xc5F\\x07\\xc4e\\x1cf\\xe8\\x0c:\\xe1\\x81l-\\xf4\\xa3\\x9b\\x86\\x9f?c\\xbdo\\xec\\t\\xdd\\xdf\\xce*\\x8a\\x0e\\x10?\\x06\\xda\\xaf\\xf5\\x8b\\x15r\\xa2\\xc7\\xe4\\\\\\xef\\xf9\\x89O\\x1aQQf\\xc8\\xb6\\x13\\xb5+\\x04\\xb2\\x89\\xae\\n\\x90\\xeaW)\\x9f\\xda\\x1c\\xb0~\\xae\\xee>%\\x17\\x07z\\xcc\\xc2\\x8d\\x1d-\\xfa\\xdd\\xf4{\\xa5o\\xc6\\x82\\x8d\\xd5\\xde\\xdcc\\xc5*-\\x05\\xf5\\xa1\\xce\\x17\\xa5\\x82=\\x83\\xf3\\xd7\\xf48~\\xfb>o\\xb0\\x1b\\x0e\\xb6\\xa2,\\x04\\xe5X!BDto!\\r\\xef\\x18r\\x03\\x95]\\x96\\x84|=\\x9d\\xe7\\xaa\\x12\\xe0\\xda\\xa0\\x1bF\\x89\\xd9\\xcd_\\xc2:\\xf0\\xa60Q&\\xc5a\\x80L~\\xc8\\xb6\\xf0\\xe5\\xc2\\xd84\\xdb\\x89#c\\xa6\\xefP\\x05;\\xa0\\xb5#\\xdcx\\x98]u\\x07\\xcf\\x1f\\xf9\\xa4\\xbd\\x99\\xbc\\xaaA\\xe9\\xca\\x14\\xc78\\xe8\\x11u\\xbc\\xad\\xddD33\\xab\\xcdm\\xbb\\xcfy&2\\t\\xa0\\xcd\\xd3@\\x19\\xa8V\\xc8%O\\xe0a&\\x03\\x96\\xa5J\\x0e\\x95\\xdd\\xec\\x9c\\xc1\\xb5\\xf8\\xc3*C\\xc5\\x04.\\x99\\xb0\\xa7\\x13\\xf9d\\x87\\xd9\\xa5\\x8c\\xdd\\xce\\xd5\\xd1q\\xfc\\xb0\\x11\\x9d\\x93\\xa3(`\\x88bu\\xb7\\xe1\\x05\\xad\\xc8\\x8b\\x86:r\\xd6N4z\\xfc\\x04\\xadp$\\xe0t\\xa0(D\\x88J\\x1d\\xbe>\\x03\\xfa\\t\\xe4[\\xbf\\x87\\x01\\x054\\xe2\\x11n\\x97\\xf0M6\\x9dku\\xc2\\xe4\\x84xYV=\\xe9j\\xe6\"\n"
     ]
    }
   ],
   "metadata": {}
  },
  {
   "cell_type": "code",
   "execution_count": 11,
   "source": [
    "dec_text = private_key.decrypt(enc_text,\n",
    "                              padding.OAEP(mgf=padding.MGF1(algorithm=hashes.SHA256()),\n",
    "                                algorithm=hashes.SHA256(),\n",
    "                                label=None))\n",
    "print(dec_text)"
   ],
   "outputs": [
    {
     "output_type": "stream",
     "name": "stdout",
     "text": [
      "b'with von'\n"
     ]
    }
   ],
   "metadata": {}
  }
 ],
 "metadata": {
  "kernelspec": {
   "name": "python3",
   "display_name": "Python 3.8.6 64-bit (conda)"
  },
  "language_info": {
   "codemirror_mode": {
    "name": "ipython",
    "version": 3
   },
   "file_extension": ".py",
   "mimetype": "text/x-python",
   "name": "python",
   "nbconvert_exporter": "python",
   "pygments_lexer": "ipython3",
   "version": "3.8.6"
  },
  "interpreter": {
   "hash": "bcf16a2db41d3bbbc5657c1b15fff8e29734599eb7b172f695e7fb19cd8b9540"
  }
 },
 "nbformat": 4,
 "nbformat_minor": 5
}