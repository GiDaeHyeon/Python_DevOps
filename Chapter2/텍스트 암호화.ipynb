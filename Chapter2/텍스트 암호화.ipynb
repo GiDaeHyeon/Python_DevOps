{
 "cells": [
  {
   "cell_type": "markdown",
   "id": "85c4b9c0",
   "metadata": {},
   "source": [
    "# 텍스트 암호화"
   ]
  },
  {
   "cell_type": "code",
   "execution_count": null,
   "id": "9b4c00d4",
   "metadata": {},
   "outputs": [],
   "source": []
  },
  {
   "cell_type": "code",
   "execution_count": null,
   "id": "2235a369",
   "metadata": {},
   "outputs": [],
   "source": []
  }
 ],
 "metadata": {
  "kernelspec": {
   "display_name": "Python 3 (ipykernel)",
   "language": "python",
   "name": "python3"
  },
  "language_info": {
   "codemirror_mode": {
    "name": "ipython",
    "version": 3
   },
   "file_extension": ".py",
   "mimetype": "text/x-python",
   "name": "python",
   "nbconvert_exporter": "python",
   "pygments_lexer": "ipython3",
   "version": "3.9.5"
  }
 },
 "nbformat": 4,
 "nbformat_minor": 5
}
