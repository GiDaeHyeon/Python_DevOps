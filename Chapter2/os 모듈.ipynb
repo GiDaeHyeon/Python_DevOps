{
 "cells": [
  {
   "cell_type": "markdown",
   "source": [
    "# os 모듈"
   ],
   "metadata": {}
  },
  {
   "cell_type": "code",
   "execution_count": 1,
   "source": [
    "import os"
   ],
   "outputs": [],
   "metadata": {}
  },
  {
   "cell_type": "code",
   "execution_count": 2,
   "source": [
    "# 디렉터리 목록 보여주기\n",
    "os.listdir('.')"
   ],
   "outputs": [
    {
     "output_type": "execute_result",
     "data": {
      "text/plain": [
       "['파일 읽기와 쓰기.ipynb',\n",
       " '텍스트 암호화.ipynb',\n",
       " 'untitled.txt',\n",
       " 'os 모듈.ipynb',\n",
       " 'untitled2.txt',\n",
       " '.ipynb_checkpoints',\n",
       " 'untitled.pdf',\n",
       " 'pathlib.ipynb',\n",
       " 'untitled.json',\n",
       " '대용량 파일 처리하기.ipynb']"
      ]
     },
     "metadata": {},
     "execution_count": 2
    }
   ],
   "metadata": {}
  },
  {
   "cell_type": "code",
   "execution_count": 3,
   "source": [
    "os.mkdir('./tmp')"
   ],
   "outputs": [],
   "metadata": {}
  },
  {
   "cell_type": "code",
   "execution_count": 4,
   "source": [
    "os.rename('./tmp', './tmp_')"
   ],
   "outputs": [],
   "metadata": {}
  },
  {
   "cell_type": "code",
   "execution_count": 6,
   "source": [
    "os.chmod('./tmp_', 0o777)"
   ],
   "outputs": [],
   "metadata": {}
  },
  {
   "cell_type": "code",
   "execution_count": 8,
   "source": [
    "# 일반 파일을 삭제할 때에는 remove를 사용하면 된다.\n",
    "os.rmdir('./tmp_')"
   ],
   "outputs": [],
   "metadata": {}
  },
  {
   "cell_type": "code",
   "execution_count": 9,
   "source": [
    "os.makedirs('./tmp')"
   ],
   "outputs": [],
   "metadata": {}
  },
  {
   "cell_type": "code",
   "execution_count": 10,
   "source": [
    "(os.stat('./tmp'))"
   ],
   "outputs": [
    {
     "output_type": "execute_result",
     "data": {
      "text/plain": [
       "os.stat_result(st_mode=16877, st_ino=55743585, st_dev=16777234, st_nlink=2, st_uid=501, st_gid=20, st_size=64, st_atime=1630918770, st_mtime=1630918770, st_ctime=1630918770)"
      ]
     },
     "metadata": {},
     "execution_count": 10
    }
   ],
   "metadata": {}
  },
  {
   "cell_type": "code",
   "execution_count": 11,
   "source": [
    "os.removedirs('./tmp')"
   ],
   "outputs": [],
   "metadata": {}
  },
  {
   "cell_type": "code",
   "execution_count": 2,
   "source": [],
   "outputs": [
    {
     "output_type": "stream",
     "name": "stdout",
     "text": [
      "None\n"
     ]
    }
   ],
   "metadata": {}
  },
  {
   "cell_type": "markdown",
   "source": [
    "##### os.path"
   ],
   "metadata": {}
  },
  {
   "cell_type": "code",
   "execution_count": 7,
   "source": [
    "cur_dir = os.getcwd()\n",
    "\n",
    "os.path.split(cur_dir)\n",
    "os.path.basename(cur_dir)\n",
    "os.path.dirname(cur_dir)"
   ],
   "outputs": [
    {
     "output_type": "execute_result",
     "data": {
      "text/plain": [
       "'/Users/gidaehyeon/github/Python_DevOps'"
      ]
     },
     "metadata": {},
     "execution_count": 7
    }
   ],
   "metadata": {}
  },
  {
   "cell_type": "code",
   "execution_count": 8,
   "source": [
    "while os.path.basename(cur_dir):\n",
    "    cur_dir = os.path.dirname(cur_dir)\n",
    "    print(cur_dir)"
   ],
   "outputs": [
    {
     "output_type": "stream",
     "name": "stdout",
     "text": [
      "/Users/gidaehyeon/github/Python_DevOps\n",
      "/Users/gidaehyeon/github\n",
      "/Users/gidaehyeon\n",
      "/Users\n",
      "/\n"
     ]
    }
   ],
   "metadata": {}
  },
  {
   "cell_type": "code",
   "execution_count": 2,
   "source": [
    "def walk_path(parent_path):\n",
    "    print(f'Checking: {parent_path}')\n",
    "    children = os.listdir(parent_path)\n",
    "\n",
    "    for child in children:\n",
    "        child_path = os.path.join(parent_path, child)\n",
    "        if os.path.isfile(child_path):\n",
    "            last_access = os.path.getatime(child_path)\n",
    "            size = os.path.getsize(child_path)\n",
    "            print(f'File: {child_path}')\n",
    "            print(f'last accessed: {last_access}')\n",
    "            print(f'size: {size}')\n",
    "        elif os.path.isdir(child_path):\n",
    "            walk_path(child_path)\n",
    "walk_path('.')"
   ],
   "outputs": [],
   "metadata": {}
  },
  {
   "cell_type": "code",
   "execution_count": 4,
   "source": [
    "def walk_path(parent_path):\n",
    "    for parent_path, directories, files in os.walk(parent_path):\n",
    "        for file_name in files:\n",
    "            child_path = os.path.join(parent_path, file_name)\n",
    "            last_access = os.path.getatime(child_path)\n",
    "            size = os.path.getsize(child_path)\n",
    "            print(f'File: {child_path}')\n",
    "            print(f'last accessed: {last_access}')\n",
    "            print(f'size: {size}')\n",
    "walk_path('.')"
   ],
   "outputs": [
    {
     "output_type": "stream",
     "name": "stdout",
     "text": [
      "File: ./파일 읽기와 쓰기.ipynb\n",
      "last accessed: 1630414551.3849804\n",
      "size: 210920\n",
      "File: ./텍스트 암호화.ipynb\n",
      "last accessed: 1630475623.7078276\n",
      "size: 6005\n",
      "File: ./untitled.txt\n",
      "last accessed: 1630414551.38487\n",
      "size: 161\n",
      "File: ./os 모듈.ipynb\n",
      "last accessed: 1630414551.3847413\n",
      "size: 3247\n",
      "File: ./untitled2.txt\n",
      "last accessed: 1630421647.863402\n",
      "size: 161\n",
      "File: ./untitled.pdf\n",
      "last accessed: 1630414551.384848\n",
      "size: 30662\n",
      "File: ./pathlib.ipynb\n",
      "last accessed: 1630414551.3847797\n",
      "size: 701\n",
      "File: ./untitled.json\n",
      "last accessed: 1630414551.3848155\n",
      "size: 43\n",
      "File: ./대용량 파일 처리하기.ipynb\n",
      "last accessed: 1630472000.340326\n",
      "size: 2790\n",
      "File: ./.ipynb_checkpoints/파일 읽기와 쓰기-checkpoint.ipynb\n",
      "last accessed: 1630414551.384089\n",
      "size: 210920\n",
      "File: ./.ipynb_checkpoints/대용량 파일 처리하기-checkpoint.ipynb\n",
      "last accessed: 1630472000.340326\n",
      "size: 2790\n",
      "File: ./.ipynb_checkpoints/pathlib-checkpoint.ipynb\n",
      "last accessed: 1630414551.3839524\n",
      "size: 701\n",
      "File: ./.ipynb_checkpoints/os 모듈-checkpoint.ipynb\n",
      "last accessed: 1630414551.383609\n",
      "size: 703\n",
      "File: ./.ipynb_checkpoints/텍스트 암호화-checkpoint.ipynb\n",
      "last accessed: 1630414551.3840485\n",
      "size: 848\n"
     ]
    }
   ],
   "metadata": {}
  },
  {
   "cell_type": "code",
   "execution_count": null,
   "source": [],
   "outputs": [],
   "metadata": {}
  }
 ],
 "metadata": {
  "kernelspec": {
   "name": "python3",
   "display_name": "Python 3.8.6 64-bit (conda)"
  },
  "language_info": {
   "codemirror_mode": {
    "name": "ipython",
    "version": 3
   },
   "file_extension": ".py",
   "mimetype": "text/x-python",
   "name": "python",
   "nbconvert_exporter": "python",
   "pygments_lexer": "ipython3",
   "version": "3.8.6"
  },
  "interpreter": {
   "hash": "bcf16a2db41d3bbbc5657c1b15fff8e29734599eb7b172f695e7fb19cd8b9540"
  }
 },
 "nbformat": 4,
 "nbformat_minor": 5
}